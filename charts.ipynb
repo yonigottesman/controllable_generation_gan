{
 "cells": [
  {
   "cell_type": "code",
   "execution_count": null,
   "metadata": {},
   "outputs": [],
   "source": [
    "from mpl_toolkits.axisartist.axislines import SubplotZero\n",
    "import matplotlib.pyplot as plt\n",
    "import numpy as np"
   ]
  },
  {
   "cell_type": "code",
   "execution_count": 1,
   "metadata": {},
   "outputs": [
    {
     "data": {
      "image/png": "[encoded data removed]",
      "text/plain": [
       "<Figure size 432x288 with 1 Axes>"
      ]
     },
     "metadata": {},
     "output_type": "display_data"
    }
   ],
   "source": [
    "fig = plt.figure()\n",
    "ax = SubplotZero(fig, 111)\n",
    "fig.add_subplot(ax)\n",
    "\n",
    "for direction in [\"xzero\", \"yzero\"]:\n",
    "    # adds arrows at the ends of each axis\n",
    "    ax.axis[direction].set_axisline_style(\"-|>\")\n",
    "\n",
    "    # adds X and Y-axis from the origin\n",
    "    ax.axis[direction].set_visible(True)\n",
    "\n",
    "for direction in [\"left\", \"right\", \"bottom\", \"top\"]:\n",
    "    # hides borders\n",
    "    ax.axis[direction].set_visible(False)\n",
    "\n",
    "x = np.linspace(-1, 7, 10)\n",
    "#y=5-x n=(1,1)\n",
    "ax.plot(x, 5-x)\n",
    "\n",
    "\n",
    "ax.set_ylim(-1,7)\n",
    "ax.set_xlim(-1,7)\n",
    "\n",
    "\n",
    "ax.set_yticks([])\n",
    "ax.set_xticks([])\n",
    "\n",
    "no_smile = []\n",
    "smile = []\n",
    "for _ in range(40):\n",
    "    x = np.random.randint(-1,7)\n",
    "    y = np.random.randint(-1,7)\n",
    "    if (5-x > y): smile.append((x,y))\n",
    "    elif (5-x < y): no_smile.append((x,y))\n",
    "    \n",
    "ax.scatter([x for x,y in no_smile],[y for x,y in no_smile],marker='x',linewidths=5, label=' No Smile')\n",
    "ax.scatter([x for x,y in smile],[y for x,y in smile],marker='+',linewidths=5, label='Smile')\n",
    "\n",
    "ax.legend(loc='upper right')\n",
    "plt.axis('equal')\n",
    "plt.show()"
   ]
  },
  {
   "cell_type": "code",
   "execution_count": 2,
   "metadata": {},
   "outputs": [
    {
     "data": {
      "image/png": "[encoded data removed]",
      "text/plain": [
       "<Figure size 432x288 with 1 Axes>"
      ]
     },
     "metadata": {},
     "output_type": "display_data"
    }
   ],
   "source": [
    "fig = plt.figure(2)\n",
    "ax = SubplotZero(fig, 111)\n",
    "fig.add_subplot(ax)\n",
    "\n",
    "for direction in [\"xzero\", \"yzero\"]:\n",
    "    # adds arrows at the ends of each axis\n",
    "    ax.axis[direction].set_axisline_style(\"-|>\")\n",
    "\n",
    "    # adds X and Y-axis from the origin\n",
    "    ax.axis[direction].set_visible(True)\n",
    "\n",
    "for direction in [\"left\", \"right\", \"bottom\", \"top\"]:\n",
    "    # hides borders\n",
    "    ax.axis[direction].set_visible(False)\n",
    "\n",
    "x = np.linspace(-1, 7, 10)\n",
    "#y=5-x n=(1,1)\n",
    "ax.plot(x, 5-x)\n",
    "\n",
    "\n",
    "ax.set_ylim(-1,7)\n",
    "ax.set_xlim(-1,7)\n",
    "\n",
    "\n",
    "ax.set_yticks([])\n",
    "ax.set_xticks([])\n",
    "\n",
    "n=np.array([-1,-1])\n",
    "z=np.array([5,7])\n",
    "\n",
    "z_edits = [z]\n",
    "\n",
    "for _ in range(7):\n",
    "    z = z+0.5*n\n",
    "    z_edits.append(z)\n",
    "\n",
    "ax.scatter([x for x,y in z_edits],[y for x,y in z_edits], marker='+',linewidths=5, label=':-(')\n",
    "\n",
    "final_z = z+0.5*n\n",
    "ax.scatter(final_z[0],final_z[1], marker='+',linewidths=5, label=':-)')\n",
    "\n",
    "\n",
    "\n",
    "\n",
    "ax.annotate('z0', (4.5,7.3),fontsize=14)\n",
    "\n",
    "ax.legend(loc='upper right',fontsize=20)\n",
    "plt.axis('equal')\n",
    "\n",
    "plt.show()"
   ]
  },
  {
   "cell_type": "code",
   "execution_count": 3,
   "metadata": {},
   "outputs": [
    {
     "data": {
      "image/png": "[encoded data removed]",
      "text/plain": [
       "<Figure size 432x288 with 1 Axes>"
      ]
     },
     "metadata": {},
     "output_type": "display_data"
    }
   ],
   "source": [
    "from mpl_toolkits.axisartist.axislines import SubplotZero\n",
    "import matplotlib.pyplot as plt\n",
    "import numpy as np\n",
    "\n",
    "\n",
    "fig = plt.figure()\n",
    "ax = SubplotZero(fig, 111)\n",
    "fig.add_subplot(ax)\n",
    "\n",
    "for direction in [\"xzero\", \"yzero\"]:\n",
    "    # adds arrows at the ends of each axis\n",
    "    ax.axis[direction].set_axisline_style(\"-|>\")\n",
    "\n",
    "    # adds X and Y-axis from the origin\n",
    "    ax.axis[direction].set_visible(True)\n",
    "\n",
    "for direction in [\"left\", \"right\", \"bottom\", \"top\"]:\n",
    "    # hides borders\n",
    "    ax.axis[direction].set_visible(False)\n",
    "\n",
    "z1 = np.array([2,4])\n",
    "z2 = np.array([5,2])\n",
    "\n",
    "ax.arrow(0, 0, *z1, head_width=0.3, head_length=0.3, fc='black', ec='black')\n",
    "ax.annotate('z1', (2,4.5),fontsize=14)\n",
    "\n",
    "ax.arrow(0, 0, *z2, head_width=0.3, head_length=0.3, fc='black', ec='black')\n",
    "ax.annotate('z2', (5,2.5),fontsize=14)\n",
    "\n",
    "interpolant = []\n",
    "for i in np.linspace(0,1,10):\n",
    "    interpolant.append(z1*i+z2*(1-i))\n",
    "\n",
    "ax.scatter([x for x,y in interpolant],[y for x,y in interpolant],marker='x',linewidths=5)\n",
    "\n",
    "\n",
    "ax.set_ylim(-1,7)\n",
    "ax.set_xlim(-1,7)\n",
    "ax.set_yticks([])\n",
    "ax.set_xticks([])\n",
    "plt.show()\n"
   ]
  },
  {
   "cell_type": "code",
   "execution_count": null,
   "metadata": {},
   "outputs": [],
   "source": []
  }
 ],
 "metadata": {
  "kernelspec": {
   "display_name": "ai",
   "language": "python",
   "name": "ai"
  },
  "language_info": {
   "codemirror_mode": {
    "name": "ipython",
    "version": 3
   },
   "file_extension": ".py",
   "mimetype": "text/x-python",
   "name": "python",
   "nbconvert_exporter": "python",
   "pygments_lexer": "ipython3",
   "version": "3.6.10"
  }
 },
 "nbformat": 4,
 "nbformat_minor": 4
}
